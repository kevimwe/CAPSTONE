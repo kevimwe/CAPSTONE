{
 "cells": [
  {
   "cell_type": "markdown",
   "metadata": {},
   "source": [
    "# Getting frames from a video\n",
    "https://stackoverflow.com/questions/33311153/python-extracting-and-saving-video-frames"
   ]
  },
  {
   "cell_type": "code",
   "execution_count": 1,
   "metadata": {
    "collapsed": true
   },
   "outputs": [],
   "source": [
    "import os, sys\n",
    "import cv2"
   ]
  },
  {
   "cell_type": "markdown",
   "metadata": {},
   "source": [
    "n = 0\n",
    "for imfile in os.scandir(imdir):\n",
    "    os.rename(imfile.path, os.path.join(imdir, '{:06}.jpg'.format(n)))\n",
    "    n += 1"
   ]
  },
  {
   "cell_type": "code",
   "execution_count": 5,
   "metadata": {},
   "outputs": [
    {
     "name": "stdout",
     "output_type": "stream",
     "text": [
      "Read a new frame:  True\n",
      "Read a new frame:  True\n",
      "Read a new frame:  True\n",
      "Read a new frame:  True\n",
      "Read a new frame:  True\n",
      "Read a new frame:  True\n",
      "Read a new frame:  True\n",
      "Read a new frame:  True\n",
      "Read a new frame:  True\n",
      "Read a new frame:  True\n",
      "Read a new frame:  True\n",
      "Read a new frame:  True\n",
      "Read a new frame:  False\n"
     ]
    }
   ],
   "source": [
    "#vid = 'video3_carrolton.mp4' #video\n",
    "#vid = '03af3912-36636dd5.mov'\n",
    "#vid = '01eaedc9-a79a93e0.mov'\n",
    "#vid = '03a5976c-6d4c6239.mov'\n",
    "vid = '05640976-d1ce1090.mov'\n",
    "folder = vid.split(\".\")[0]\n",
    "\n",
    "vidcap = cv2.VideoCapture(vid)\n",
    "success,image = vidcap.read()\n",
    "count = 0\n",
    "while success:\n",
    "  cv2.imwrite(folder+\"%d.jpg\" % count, image)     # save frame as JPEG file  \n",
    "  for i in range(1,100):\n",
    "        success,image = vidcap.read()\n",
    "        count += 1\n",
    "  print('Read a new frame: ', success)\n",
    "  "
   ]
  },
  {
   "cell_type": "markdown",
   "metadata": {},
   "source": [
    "#Rename images\n",
    "imdir = '\\\\data\\\\'\n",
    "n = 0\n",
    "for imfile in os.scandir(imdir):\n",
    "    os.rename(imfile.path, os.path.join(imdir, 'Carrolton'+'{:06}.jpg'.format(n)))\n",
    "    n += 1"
   ]
  },
  {
   "cell_type": "code",
   "execution_count": null,
   "metadata": {
    "collapsed": true
   },
   "outputs": [],
   "source": []
  }
 ],
 "metadata": {
  "kernelspec": {
   "display_name": "Python 3",
   "language": "python",
   "name": "python3"
  },
  "language_info": {
   "codemirror_mode": {
    "name": "ipython",
    "version": 3
   },
   "file_extension": ".py",
   "mimetype": "text/x-python",
   "name": "python",
   "nbconvert_exporter": "python",
   "pygments_lexer": "ipython3",
   "version": "3.5.4"
  }
 },
 "nbformat": 4,
 "nbformat_minor": 2
}
