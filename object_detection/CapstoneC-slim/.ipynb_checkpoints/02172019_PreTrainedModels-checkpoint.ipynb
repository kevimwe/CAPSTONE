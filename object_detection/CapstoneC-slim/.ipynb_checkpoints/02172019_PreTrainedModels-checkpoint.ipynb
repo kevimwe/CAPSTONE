{
 "cells": [
  {
   "cell_type": "markdown",
   "metadata": {},
   "source": [
    "# Evaluation of Pre-Trained Object Detection Models for on Data for different Driving Condititions"
   ]
  },
  {
   "cell_type": "markdown",
   "metadata": {},
   "source": [
    "**Authors:** Kevin Okiah,  Ramesh Simhambhatla, Shravan  Kuchkula,\n",
    "\n",
    "**Date:** 01/03/2019\n",
    "\n",
    "**Organization:** DataScience@SMU Capstone\n",
    "\n",
    "\n",
    "\n",
    "**Abstract:** Transfer learning (to be updated)\n",
    "\n",
    "**References:** \n",
    "1. The code is adopted and modified from tensorflow modelzoo link  below https://github.com/tensorflow/models/blob/master/research/object_detection/g3doc/detection_model_zoo.md\n",
    "2. **Dataset:**"
   ]
  },
  {
   "cell_type": "code",
   "execution_count": 1,
   "metadata": {},
   "outputs": [],
   "source": [
    "import numpy as np\n",
    "import os\n",
    "import six.moves.urllib as urllib\n",
    "import sys\n",
    "import tarfile\n",
    "import tensorflow as tf\n",
    "import zipfile\n",
    "import pandas as pd\n",
    "from PIL import Image\n",
    "import cv2\n",
    "import pandas as pd\n",
    "from distutils.version import StrictVersion\n",
    "from collections import defaultdict\n",
    "from io import StringIO\n",
    "from matplotlib import pyplot as plt\n",
    "import time\n",
    "\n",
    "import os\n",
    "\n",
    "\n",
    "#!pip install unipath\n",
    "\n",
    "from unipath import Path\n",
    "\n",
    "ObjectDetectionDirPath = Path(os.getcwd())\n",
    "\n",
    "ResearchFolderPath = Path(ObjectDetectionDirPath.parent).parent # this id need to import object detection utils below if not working from its directory\n",
    "#sys.path.append(\"..\")  # This is needed since the notebook is stored in the object_detection folder.\n",
    "sys.path.append(ResearchFolderPath)  # update this to tensorflow research directory\n",
    "\n",
    "from object_detection.utils import ops as utils_ops\n",
    "\n",
    "if StrictVersion(tf.__version__) < StrictVersion('1.9.0'):\n",
    "    raise ImportError('Please upgrade your TensorFlow installation to v1.9.* or later!')\n"
   ]
  },
  {
   "cell_type": "code",
   "execution_count": 2,
   "metadata": {},
   "outputs": [],
   "source": [
    "# This is needed to display the images.\n",
    "%matplotlib inline"
   ]
  },
  {
   "cell_type": "code",
   "execution_count": 3,
   "metadata": {},
   "outputs": [],
   "source": [
    "### check if GPU exists"
   ]
  },
  {
   "cell_type": "code",
   "execution_count": 4,
   "metadata": {},
   "outputs": [],
   "source": [
    "from tensorflow.python.client import device_lib"
   ]
  },
  {
   "cell_type": "code",
   "execution_count": 5,
   "metadata": {},
   "outputs": [
    {
     "data": {
      "text/plain": [
       "[name: \"/device:CPU:0\"\n",
       " device_type: \"CPU\"\n",
       " memory_limit: 268435456\n",
       " locality {\n",
       " }\n",
       " incarnation: 14851553352749129110, name: \"/device:GPU:0\"\n",
       " device_type: \"GPU\"\n",
       " memory_limit: 2474704896\n",
       " locality {\n",
       "   bus_id: 1\n",
       "   links {\n",
       "   }\n",
       " }\n",
       " incarnation: 3556104571466122550\n",
       " physical_device_desc: \"device: 0, name: GeForce GTX 1060 3GB, pci bus id: 0000:01:00.0, compute capability: 6.1\"]"
      ]
     },
     "execution_count": 5,
     "metadata": {},
     "output_type": "execute_result"
    }
   ],
   "source": [
    "device_lib.list_local_devices()"
   ]
  },
  {
   "cell_type": "code",
   "execution_count": 6,
   "metadata": {},
   "outputs": [],
   "source": [
    "#from utils import label_map_util\n",
    "from object_detection.utils import label_map_util\n",
    "\n",
    "from object_detection.utils import visualization_utils as vis_util"
   ]
  },
  {
   "cell_type": "code",
   "execution_count": 7,
   "metadata": {},
   "outputs": [],
   "source": [
    "# What model to download.\n",
    "#https://github.com/tensorflow/models/blob/master/research/object_detection/g3doc/detection_model_zoo.md\n",
    "myModels = ['faster_rcnn_inception_v2_coco_custom'\n",
    "            ,'faster_rcnn_inception_v2_coco','faster_rcnn_resnet50_coco','ssd_inception_v2_coco','rfcn_resnet101_coco', \n",
    "            'mask_rcnn_inception_v2_coco']#,'mask_rcnn_resnet101_atrous_coco'] #'faster_rcnn_inception_v2_coco',\n",
    "#myModels =[]\n",
    "# List of the strings that is used to add correct label for each box.\n",
    "PATH_TO_LABELS = os.path.join(ObjectDetectionDirPath.parent, 'data/mscoco_label_map.pbtxt')\n",
    "\n",
    "category_index = label_map_util.create_category_index_from_labelmap(PATH_TO_LABELS, use_display_name=True)\n",
    "\n",
    "# Dowload and load frozen model\n",
    "def Download_and_loadFrozen_model(current_model = myModels[0]):\n",
    "    MODEL_NAME = current_model+'_2018_01_28'\n",
    "    MODEL_FILE = MODEL_NAME + '.tar.gz'\n",
    "    DOWNLOAD_BASE = 'http://download.tensorflow.org/models/object_detection/'\n",
    "\n",
    "    # Path to frozen detection graph. This is the actual model that is used for the object detection.\n",
    "    PATH_TO_FROZEN_GRAPH = MODEL_NAME + '/frozen_inference_graph.pb'\n",
    "\n",
    "    #download model\n",
    "    opener = urllib.request.URLopener()\n",
    "    opener.retrieve(DOWNLOAD_BASE + MODEL_FILE, MODEL_FILE)\n",
    "    tar_file = tarfile.open(MODEL_FILE)\n",
    "    for file in tar_file.getmembers():\n",
    "      file_name = os.path.basename(file.name)\n",
    "      if 'frozen_inference_graph.pb' in file_name:\n",
    "        tar_file.extract(file, os.getcwd())\n",
    "    print(current_model + \" model has been downloaded...\") \n",
    "\n",
    "def LoadFrozenModel(current_model = myModels[0]):\n",
    "    MODEL_NAME = current_model+'_2018_01_28'\n",
    "    # Path to frozen detection graph. This is the actual model that is used for the object detection.\n",
    "    PATH_TO_FROZEN_GRAPH = MODEL_NAME + '/frozen_inference_graph.pb'\n",
    "    #load frozen model\n",
    "    detection_graph = tf.Graph()\n",
    "    with detection_graph.as_default():\n",
    "      od_graph_def = tf.GraphDef()\n",
    "      with tf.gfile.GFile(PATH_TO_FROZEN_GRAPH, 'rb') as fid:\n",
    "        serialized_graph = fid.read()\n",
    "        od_graph_def.ParseFromString(serialized_graph)\n",
    "        tf.import_graph_def(od_graph_def, name='')\n",
    "    #print(current_model+\" model loaded...\")\n",
    "    return detection_graph\n",
    "    \n",
    "\n"
   ]
  },
  {
   "cell_type": "code",
   "execution_count": 8,
   "metadata": {},
   "outputs": [],
   "source": [
    "coco_labels = pd.DataFrame(category_index).T\n",
    "\n",
    "coco_labels.to_csv(\"coco_object_labels.csv\")"
   ]
  },
  {
   "cell_type": "code",
   "execution_count": 9,
   "metadata": {},
   "outputs": [],
   "source": [
    "# Commect this section out if you want to download models passed from the Download_and_loadFrozen_model list above\n",
    "#for i in myModels:\n",
    "#    #download and load a frozen model\n",
    "#    detection_graph =Download_and_loadFrozen_model(i) #You can pass model name here"
   ]
  },
  {
   "cell_type": "markdown",
   "metadata": {},
   "source": [
    "### Inference and  Object Detection"
   ]
  },
  {
   "cell_type": "code",
   "execution_count": 10,
   "metadata": {},
   "outputs": [],
   "source": [
    "def load_image_into_numpy_array(image):\n",
    "  (im_width, im_height) = image.size\n",
    "  return np.array(image.getdata()).reshape(\n",
    "      (im_height, im_width, 3)).astype(np.uint8)"
   ]
  },
  {
   "cell_type": "code",
   "execution_count": 11,
   "metadata": {},
   "outputs": [],
   "source": [
    "def run_inference_for_single_image(image, graph):\n",
    "  with graph.as_default():\n",
    "    #############################################\n",
    "    # Comment this code out if you don't have a GPU\n",
    "    #############################################\n",
    "    #with tf.device('/device:GPU:0'):\n",
    "    with tf.Session() as sess:\n",
    "      # Get handles to input and output tensors\n",
    "      ops = tf.get_default_graph().get_operations()\n",
    "      all_tensor_names = {output.name for op in ops for output in op.outputs}\n",
    "      tensor_dict = {}\n",
    "      for key in [\n",
    "          'num_detections', 'detection_boxes', 'detection_scores',\n",
    "          'detection_classes', 'detection_masks'\n",
    "      ]:\n",
    "        tensor_name = key + ':0'\n",
    "        if tensor_name in all_tensor_names:\n",
    "          tensor_dict[key] = tf.get_default_graph().get_tensor_by_name(\n",
    "              tensor_name)\n",
    "      if 'detection_masks' in tensor_dict:\n",
    "        # The following processing is only for single image\n",
    "        detection_boxes = tf.squeeze(tensor_dict['detection_boxes'], [0])\n",
    "        detection_masks = tf.squeeze(tensor_dict['detection_masks'], [0])\n",
    "        # Reframe is required to translate mask from box coordinates to image coordinates and fit the image size.\n",
    "        real_num_detection = tf.cast(tensor_dict['num_detections'][0], tf.int32)\n",
    "        detection_boxes = tf.slice(detection_boxes, [0, 0], [real_num_detection, -1])\n",
    "        detection_masks = tf.slice(detection_masks, [0, 0, 0], [real_num_detection, -1, -1])\n",
    "        detection_masks_reframed = utils_ops.reframe_box_masks_to_image_masks(\n",
    "            detection_masks, detection_boxes, image.shape[0], image.shape[1])\n",
    "        detection_masks_reframed = tf.cast(\n",
    "            tf.greater(detection_masks_reframed, 0.5), tf.uint8)\n",
    "        # Follow the convention by adding back the batch dimension\n",
    "        tensor_dict['detection_masks'] = tf.expand_dims(\n",
    "            detection_masks_reframed, 0)\n",
    "      image_tensor = tf.get_default_graph().get_tensor_by_name('image_tensor:0')\n",
    "\n",
    "      # Run inference\n",
    "      output_dict = sess.run(tensor_dict,\n",
    "                             feed_dict={image_tensor: np.expand_dims(image, 0)})\n",
    "\n",
    "      # all outputs are float32 numpy arrays, so convert types as appropriate\n",
    "      output_dict['num_detections'] = int(output_dict['num_detections'][0])\n",
    "      output_dict['detection_classes'] = output_dict[\n",
    "          'detection_classes'][0].astype(np.uint8)\n",
    "      output_dict['detection_boxes'] = output_dict['detection_boxes'][0]\n",
    "      output_dict['detection_scores'] = output_dict['detection_scores'][0]\n",
    "      if 'detection_masks' in output_dict:\n",
    "        output_dict['detection_masks'] = output_dict['detection_masks'][0]\n",
    "    return output_dict"
   ]
  },
  {
   "cell_type": "code",
   "execution_count": 12,
   "metadata": {},
   "outputs": [],
   "source": [
    "import os\n",
    "# Size, in inches, of the output images.\n",
    "IMAGE_SIZE = (20, 10)"
   ]
  },
  {
   "cell_type": "code",
   "execution_count": 21,
   "metadata": {},
   "outputs": [],
   "source": [
    "def InferNowXXX(modelName =myModels[0], detection_graph=LoadFrozenModel(), size=300):\n",
    "    Temp = pd.DataFrame()\n",
    "    dataX = pd.DataFrame()\n",
    "    result = pd.DataFrame()\n",
    "    targetfolder ='images/images'+str(size)+'/Val'\n",
    "    #folders = ['samples-1k/Driving_condition/day/','samples-1k/Driving_condition/night', 'samples-1k/Driving_condition/Snowy']\n",
    "    #condition = ['dayX']#, 'Night', 'Snowy']\n",
    "    for i in range(0,len(folders)):\n",
    "        Imageslist = os.listdir(folders[i]+targetfolder )\n",
    "        Imageslist.sort()\n",
    "\n",
    "        PATH_TO_TEST_IMAGES_DIR =folders[i]+targetfolder \n",
    "        imagePATH = [ os.path.join(PATH_TO_TEST_IMAGES_DIR, Imageslist[j]) for j in range(0,len(Imageslist)) ]\n",
    "\n",
    "        for image_path in imagePATH:\n",
    "\n",
    "            image = Image.open(image_path)\n",
    "            width, height = image.size\n",
    "            # the array based representation of the image will be used later in order to prepare the\n",
    "            # result image with boxes and labels on it.\n",
    "            image_np = load_image_into_numpy_array(image)\n",
    "            # Expand dimensions since the model expects images to have shape: [1, None, None, 3]\n",
    "            image_np_expanded = np.expand_dims(image_np, axis=0) \n",
    "            # Actual detection.\n",
    "            t0 = time.time()\n",
    "            output_dict =run_inference_for_single_image(image_np, detection_graph)\n",
    "            t1 = time.time()\n",
    "            total = t1-t0\n",
    "            t0 =t1=0\n",
    "            # Visualization of the results of a detection.\n",
    "            vis_util.visualize_boxes_and_labels_on_image_array(\n",
    "               image_np,\n",
    "               output_dict['detection_boxes'],\n",
    "               output_dict['detection_classes'],\n",
    "               output_dict['detection_scores'],\n",
    "               category_index,\n",
    "               instance_masks=output_dict.get('detection_masks'),\n",
    "               use_normalized_coordinates=True, #\n",
    "               line_thickness=2)\n",
    "            #plt.figure(figsize=IMAGE_SIZE)\n",
    "            #plt.imshow(image_np)\n",
    "            #plt.title(modelName)\n",
    "            #df = pd.DataFrame([[modelName, total, condition[i], image_path]], columns=['Model','Inference Time (Sec)','Driving Condition', 'ImageID'])\n",
    "            \n",
    "            print(image_path.split('/')[6], \": \", modelName, \":\", round(total, 3), \"Seconds\")\n",
    "            #print(output_dict['detection_classes'],output_dict['detection_scores'])\n",
    "            detection_classes = pd.DataFrame(output_dict['detection_classes'])\n",
    "            detection_scores = pd.DataFrame(output_dict['detection_scores'])\n",
    "            detection_boxes  = pd.DataFrame(output_dict['detection_boxes'])\n",
    "            #<class_name> <confidence> <left> <top> <right> <bottom>\n",
    "            #dataX[\"Class\"] = detection_classes\n",
    "            #pd.concat([df1, df3], join=\"inner\")\n",
    "            result = pd.concat([detection_classes, detection_scores], axis=1, sort=False)\n",
    "            result = pd.concat([result, detection_boxes], axis=1, sort=False)\n",
    "            #the code below was the bug\n",
    "            result.columns = ['Class', 'Confidence','top', 'left', 'bottom', 'right'] #updated\n",
    "            result['Width'] =width\n",
    "            result['Height'] =height\n",
    "            result['Model']= modelName\n",
    "            result['Inference Time (Sec)']= total\n",
    "            result['Driving Condition'] = condition[i]\n",
    "            result['ImageID'] = image_path.split('/')[6]\n",
    "            result['ImageWidth'] = size\n",
    "            #print(image_path.split('/'))\n",
    "            Temp = Temp.append(result)\n",
    "            #print(str(output_dict))\n",
    "    return(Temp)"
   ]
  },
  {
   "cell_type": "code",
   "execution_count": 22,
   "metadata": {
    "scrolled": true
   },
   "outputs": [],
   "source": [
    "def Run_inference(size=300):\n",
    "    temp = pd.DataFrame()\n",
    "    for i in myModels:\n",
    "        print(\"**********************************************************\")\n",
    "        print(\"*   Inferring with...: \", i,'   *')\n",
    "        print(\"**********************************************************\")\n",
    "        detgraph = LoadFrozenModel(i)\n",
    "        #detection_graph =Download_and_loadFrozen_model(i) #You can pass model name here\n",
    "        temp = temp.append(InferNowXXX(i, detgraph, size))\n",
    "        #InferNow(i, detgraph)\n",
    "    print(\"******************************************\")\n",
    "    temp = temp[temp.Confidence != 0]\n",
    "    temp.to_csv('InferenceData_'+str(size)+'_scaled.csv', index=False)\n",
    "    #temp = pd.read_csv('InferenceData_scaled.csv')\n",
    "#Run_inference()"
   ]
  },
  {
   "cell_type": "markdown",
   "metadata": {},
   "source": [
    "## Generate Predict Labels txt files"
   ]
  },
  {
   "cell_type": "code",
   "execution_count": 23,
   "metadata": {},
   "outputs": [],
   "source": [
    "# Generate predicted labels. txt file\n",
    "# https://github.com/Cartucho/mAP#create-the-ground-truth-files\n",
    "# This Code block generates predictions files which take the format below for indivisual images. \n",
    "# <class_name> <confidence> <left> <top> <right> <bottom>\n",
    "\n",
    "def PredictionsFiles(size =300):\n",
    "    temp = pd.DataFrame()\n",
    "    temp = pd.read_csv('InferenceData_'+str(size)+'_scaled.csv')\n",
    "    #temp = tempX[tempX.Confidence != 0]\n",
    "    models = pd.unique(temp['Model'])\n",
    "    Drivingcondition = pd.unique(temp['Driving Condition'])\n",
    "    col_list = ['Class', 'Confidence', 'left', 'top', 'right', 'bottom'] # updated\n",
    "\n",
    "    for i in models:\n",
    "        ModelData = temp[temp['Model']==i]  #subset data by model\n",
    "        #display(ModelData)\n",
    "        for j in Drivingcondition:\n",
    "            #print(j)\n",
    "            DrivingConditionData = ModelData[ModelData['Driving Condition']==j] #subset data by driving conditon\n",
    "            #print(DrivingConditionData.shape)\n",
    "            templist =pd.unique(DrivingConditionData['ImageID'])\n",
    "            #print(len(templist))\n",
    "            for k in templist:\n",
    "                ImageData = DrivingConditionData[DrivingConditionData['ImageID']==k]\n",
    "\n",
    "                mod=list(pd.unique(ImageData.Model))[0]# model\n",
    "                weather =list(pd.unique(ImageData['Driving Condition']))[0]#driving Condition\n",
    "                #weather = \"Day1\"\n",
    "                pic = list(pd.unique(ImageData.ImageID))[0].split('.')[0] #image\n",
    "                directory =\"samples-1k/Driving_condition/\"+weather+\"/images/images\"+str(size)+\"/predicted/\"+mod+\"/\"\n",
    "                #create the directory if it doesn't exist\n",
    "                import os, errno\n",
    "                try:\n",
    "                    os.makedirs(directory)\n",
    "                except OSError as e:\n",
    "                    if e.errno != errno.EEXIST:\n",
    "                        raise\n",
    "                #save_address =\"/sample-1k/Driving_condition/Predictions/\"+mod+\"/\"+weather+\"/\"+pic+\".txt\" #prediction file\n",
    "                ImageData[col_list].to_csv(directory+pic+\".txt\", header=None, index=None, sep=' ')"
   ]
  },
  {
   "cell_type": "markdown",
   "metadata": {},
   "source": [
    "## Generate Groundtruth Files"
   ]
  },
  {
   "cell_type": "code",
   "execution_count": 24,
   "metadata": {},
   "outputs": [],
   "source": [
    "import os\n",
    "import glob\n",
    "import pandas as pd\n",
    "import xml.etree.ElementTree as ET"
   ]
  },
  {
   "cell_type": "code",
   "execution_count": 25,
   "metadata": {},
   "outputs": [],
   "source": [
    "# this function takes in folder with ground truth xml files and returns the data in a dataframe\n",
    "def xml_to_csv(path):\n",
    "    xml_list = []\n",
    "    for xml_file in glob.glob(path + '/*.xml'):\n",
    "        tree = ET.parse(xml_file)\n",
    "        root = tree.getroot()\n",
    "        for member in root.findall('object'):\n",
    "            value = (root.find('filename').text,\n",
    "                     int(root.find('size')[0].text),\n",
    "                     int(root.find('size')[1].text),\n",
    "                     member[0].text,\n",
    "                     int(member[4][0].text),\n",
    "                     int(member[4][1].text),\n",
    "                     int(member[4][2].text),\n",
    "                     int(member[4][3].text)\n",
    "                     )\n",
    "            xml_list.append(value)\n",
    "    column_name = ['filename', 'width', 'height', 'class', 'xmin', 'ymin', 'xmax', 'ymax']\n",
    "    xml_df = pd.DataFrame(xml_list, columns=column_name)\n",
    "    classes = pd.read_csv('coco_object_labels.csv')\n",
    "    classid =[]\n",
    "    # add class id from the coco labels\n",
    "    for i in list(xml_df['class']):\n",
    "        #print([int(classes[classes.name==i].id))\n",
    "        temp = [int(classes[classes.name==i].id)]\n",
    "        #print(temp)\n",
    "        classid =classid+temp\n",
    "\n",
    "    xml_df['id'] =classid \n",
    "    #print(pd.unique(list(xml_df['class'])))\n",
    "    # scaling the x and y coordinates for the ground truth file by the image dimensions\n",
    "    xml_df[\"xmin_scaled\"] = xml_df.xmin/xml_df.width\n",
    "    xml_df[\"ymin_scaled\"] = xml_df.ymin/xml_df.height\n",
    "    xml_df[\"xmax_scaled\"] = xml_df.xmax/xml_df.width\n",
    "    xml_df[\"ymax_scaled\"] = xml_df.ymax/xml_df.height\n",
    "    return xml_df\n",
    "\n",
    "#image_path = os.path.join(os.getcwd(), folders[0]+'/ground-truth-xml')\n",
    "#GroundTruth = xml_to_csv(image_path)"
   ]
  },
  {
   "cell_type": "code",
   "execution_count": 26,
   "metadata": {},
   "outputs": [],
   "source": [
    "#GroundTruth"
   ]
  },
  {
   "cell_type": "code",
   "execution_count": 27,
   "metadata": {},
   "outputs": [],
   "source": [
    "# https://github.com/Cartucho/mAP#create-the-ground-truth-files\n",
    "# This Code block generates predictions files which take the format below for indivisual images. \n",
    "# <class_name> <confidence> <left> <top> <right> <bottom>\n",
    "\n",
    "def GroundTruth2txt(GroundTruth,folder= \"samples-1k/Driving_condition/day\", size=300):\n",
    "    directory = folder+'/images/images'+str(size)+'/ground-truth/'\n",
    "    temp = pd.DataFrame(GroundTruth.copy())\n",
    "    #temp = tempX[tempX.Confidence != 0]\n",
    "    imageslist = pd.unique(temp['filename']) #unique images\n",
    "    col_list = ['id', 'xmin_scaled', 'ymin_scaled','xmax_scaled','ymax_scaled'] # updated\n",
    "    print(directory)\n",
    "\n",
    "    for i in imageslist:\n",
    "        imageData = temp[temp['filename']==i]  #subset data by image\n",
    "        x = i.split('.jpg')\n",
    "        if len(x)>1:\n",
    "            filename = i.split('.jpg')[0]+'.txt' #get the ground truth filename\n",
    "        else:\n",
    "            filename = i.split('.JPG')[0]+'.txt' #get the ground truth filename   \n",
    "        \n",
    "        import os, errno\n",
    "        try:\n",
    "            os.makedirs(directory)\n",
    "        except OSError as e:\n",
    "            if e.errno != errno.EEXIST:\n",
    "                raise\n",
    "        imageData[col_list].to_csv(directory+filename, header=None, index=None, sep=' ')"
   ]
  },
  {
   "cell_type": "code",
   "execution_count": 28,
   "metadata": {},
   "outputs": [
    {
     "name": "stdout",
     "output_type": "stream",
     "text": [
      "300\n",
      "**********************************************************\n",
      "*   Inferring with...:  faster_rcnn_inception_v2_coco_custom    *\n",
      "**********************************************************\n",
      "000000154000_reSized.jpg :  faster_rcnn_inception_v2_coco_custom : 1.296 Seconds\n",
      "000000565391_reSized.jpg :  faster_rcnn_inception_v2_coco_custom : 1.287 Seconds\n"
     ]
    },
    {
     "ename": "KeyboardInterrupt",
     "evalue": "",
     "output_type": "error",
     "traceback": [
      "\u001b[0;31m---------------------------------------------------------------------------\u001b[0m",
      "\u001b[0;31mKeyboardInterrupt\u001b[0m                         Traceback (most recent call last)",
      "\u001b[0;32m<ipython-input-28-4b92f30066f4>\u001b[0m in \u001b[0;36m<module>\u001b[0;34m\u001b[0m\n\u001b[1;32m     23\u001b[0m \u001b[0;31m########################\u001b[0m\u001b[0;34m\u001b[0m\u001b[0;34m\u001b[0m\u001b[0;34m\u001b[0m\u001b[0m\n\u001b[1;32m     24\u001b[0m \u001b[0;32mfor\u001b[0m \u001b[0mi\u001b[0m \u001b[0;32min\u001b[0m \u001b[0mfolders\u001b[0m\u001b[0;34m:\u001b[0m\u001b[0;34m\u001b[0m\u001b[0;34m\u001b[0m\u001b[0m\n\u001b[0;32m---> 25\u001b[0;31m     \u001b[0mmain\u001b[0m\u001b[0;34m(\u001b[0m\u001b[0mi\u001b[0m\u001b[0;34m)\u001b[0m\u001b[0;34m\u001b[0m\u001b[0;34m\u001b[0m\u001b[0m\n\u001b[0m\u001b[1;32m     26\u001b[0m     \u001b[0mprint\u001b[0m\u001b[0;34m(\u001b[0m\u001b[0;34m'############# Completed Processing   ##############: '\u001b[0m \u001b[0;34m,\u001b[0m \u001b[0mi\u001b[0m\u001b[0;34m)\u001b[0m\u001b[0;34m\u001b[0m\u001b[0;34m\u001b[0m\u001b[0m\n",
      "\u001b[0;32m<ipython-input-28-4b92f30066f4>\u001b[0m in \u001b[0;36mmain\u001b[0;34m(folder)\u001b[0m\n\u001b[1;32m     10\u001b[0m     \u001b[0;32mfor\u001b[0m \u001b[0msize\u001b[0m \u001b[0;32min\u001b[0m \u001b[0mimagesizes\u001b[0m\u001b[0;34m:\u001b[0m\u001b[0;34m\u001b[0m\u001b[0;34m\u001b[0m\u001b[0m\n\u001b[1;32m     11\u001b[0m         \u001b[0mprint\u001b[0m\u001b[0;34m(\u001b[0m\u001b[0msize\u001b[0m\u001b[0;34m)\u001b[0m\u001b[0;34m\u001b[0m\u001b[0;34m\u001b[0m\u001b[0m\n\u001b[0;32m---> 12\u001b[0;31m         \u001b[0mRun_inference\u001b[0m\u001b[0;34m(\u001b[0m\u001b[0msize\u001b[0m\u001b[0;34m)\u001b[0m\u001b[0;31m# Run Inferrence\u001b[0m\u001b[0;34m\u001b[0m\u001b[0;34m\u001b[0m\u001b[0m\n\u001b[0m\u001b[1;32m     13\u001b[0m         \u001b[0mPredictionsFiles\u001b[0m\u001b[0;34m(\u001b[0m\u001b[0msize\u001b[0m\u001b[0;34m)\u001b[0m\u001b[0;34m\u001b[0m\u001b[0;34m\u001b[0m\u001b[0m\n\u001b[1;32m     14\u001b[0m         \u001b[0;31m#image_path = os.path.join(os.getcwd(), folder+'/ground-truth-xml')\u001b[0m\u001b[0;34m\u001b[0m\u001b[0;34m\u001b[0m\u001b[0;34m\u001b[0m\u001b[0m\n",
      "\u001b[0;32m<ipython-input-22-aac8e91a2cec>\u001b[0m in \u001b[0;36mRun_inference\u001b[0;34m(size)\u001b[0m\n\u001b[1;32m      7\u001b[0m         \u001b[0mdetgraph\u001b[0m \u001b[0;34m=\u001b[0m \u001b[0mLoadFrozenModel\u001b[0m\u001b[0;34m(\u001b[0m\u001b[0mi\u001b[0m\u001b[0;34m)\u001b[0m\u001b[0;34m\u001b[0m\u001b[0;34m\u001b[0m\u001b[0m\n\u001b[1;32m      8\u001b[0m         \u001b[0;31m#detection_graph =Download_and_loadFrozen_model(i) #You can pass model name here\u001b[0m\u001b[0;34m\u001b[0m\u001b[0;34m\u001b[0m\u001b[0;34m\u001b[0m\u001b[0m\n\u001b[0;32m----> 9\u001b[0;31m         \u001b[0mtemp\u001b[0m \u001b[0;34m=\u001b[0m \u001b[0mtemp\u001b[0m\u001b[0;34m.\u001b[0m\u001b[0mappend\u001b[0m\u001b[0;34m(\u001b[0m\u001b[0mInferNowXXX\u001b[0m\u001b[0;34m(\u001b[0m\u001b[0mi\u001b[0m\u001b[0;34m,\u001b[0m \u001b[0mdetgraph\u001b[0m\u001b[0;34m,\u001b[0m \u001b[0msize\u001b[0m\u001b[0;34m)\u001b[0m\u001b[0;34m)\u001b[0m\u001b[0;34m\u001b[0m\u001b[0;34m\u001b[0m\u001b[0m\n\u001b[0m\u001b[1;32m     10\u001b[0m         \u001b[0;31m#InferNow(i, detgraph)\u001b[0m\u001b[0;34m\u001b[0m\u001b[0;34m\u001b[0m\u001b[0;34m\u001b[0m\u001b[0m\n\u001b[1;32m     11\u001b[0m     \u001b[0mprint\u001b[0m\u001b[0;34m(\u001b[0m\u001b[0;34m\"******************************************\"\u001b[0m\u001b[0;34m)\u001b[0m\u001b[0;34m\u001b[0m\u001b[0;34m\u001b[0m\u001b[0m\n",
      "\u001b[0;32m<ipython-input-21-fcdd0825cd4a>\u001b[0m in \u001b[0;36mInferNowXXX\u001b[0;34m(modelName, detection_graph, size)\u001b[0m\n\u001b[1;32m     24\u001b[0m             \u001b[0;31m# Actual detection.\u001b[0m\u001b[0;34m\u001b[0m\u001b[0;34m\u001b[0m\u001b[0;34m\u001b[0m\u001b[0m\n\u001b[1;32m     25\u001b[0m             \u001b[0mt0\u001b[0m \u001b[0;34m=\u001b[0m \u001b[0mtime\u001b[0m\u001b[0;34m.\u001b[0m\u001b[0mtime\u001b[0m\u001b[0;34m(\u001b[0m\u001b[0;34m)\u001b[0m\u001b[0;34m\u001b[0m\u001b[0;34m\u001b[0m\u001b[0m\n\u001b[0;32m---> 26\u001b[0;31m             \u001b[0moutput_dict\u001b[0m \u001b[0;34m=\u001b[0m\u001b[0mrun_inference_for_single_image\u001b[0m\u001b[0;34m(\u001b[0m\u001b[0mimage_np\u001b[0m\u001b[0;34m,\u001b[0m \u001b[0mdetection_graph\u001b[0m\u001b[0;34m)\u001b[0m\u001b[0;34m\u001b[0m\u001b[0;34m\u001b[0m\u001b[0m\n\u001b[0m\u001b[1;32m     27\u001b[0m             \u001b[0mt1\u001b[0m \u001b[0;34m=\u001b[0m \u001b[0mtime\u001b[0m\u001b[0;34m.\u001b[0m\u001b[0mtime\u001b[0m\u001b[0;34m(\u001b[0m\u001b[0;34m)\u001b[0m\u001b[0;34m\u001b[0m\u001b[0;34m\u001b[0m\u001b[0m\n\u001b[1;32m     28\u001b[0m             \u001b[0mtotal\u001b[0m \u001b[0;34m=\u001b[0m \u001b[0mt1\u001b[0m\u001b[0;34m-\u001b[0m\u001b[0mt0\u001b[0m\u001b[0;34m\u001b[0m\u001b[0;34m\u001b[0m\u001b[0m\n",
      "\u001b[0;32m<ipython-input-11-82c22e1298fd>\u001b[0m in \u001b[0;36mrun_inference_for_single_image\u001b[0;34m(image, graph)\u001b[0m\n\u001b[1;32m     37\u001b[0m       \u001b[0;31m# Run inference\u001b[0m\u001b[0;34m\u001b[0m\u001b[0;34m\u001b[0m\u001b[0;34m\u001b[0m\u001b[0m\n\u001b[1;32m     38\u001b[0m       output_dict = sess.run(tensor_dict,\n\u001b[0;32m---> 39\u001b[0;31m                              feed_dict={image_tensor: np.expand_dims(image, 0)})\n\u001b[0m\u001b[1;32m     40\u001b[0m \u001b[0;34m\u001b[0m\u001b[0m\n\u001b[1;32m     41\u001b[0m       \u001b[0;31m# all outputs are float32 numpy arrays, so convert types as appropriate\u001b[0m\u001b[0;34m\u001b[0m\u001b[0;34m\u001b[0m\u001b[0;34m\u001b[0m\u001b[0m\n",
      "\u001b[0;32m~/anaconda3/lib/python3.6/site-packages/tensorflow/python/client/session.py\u001b[0m in \u001b[0;36mrun\u001b[0;34m(self, fetches, feed_dict, options, run_metadata)\u001b[0m\n\u001b[1;32m    898\u001b[0m     \u001b[0;32mtry\u001b[0m\u001b[0;34m:\u001b[0m\u001b[0;34m\u001b[0m\u001b[0;34m\u001b[0m\u001b[0m\n\u001b[1;32m    899\u001b[0m       result = self._run(None, fetches, feed_dict, options_ptr,\n\u001b[0;32m--> 900\u001b[0;31m                          run_metadata_ptr)\n\u001b[0m\u001b[1;32m    901\u001b[0m       \u001b[0;32mif\u001b[0m \u001b[0mrun_metadata\u001b[0m\u001b[0;34m:\u001b[0m\u001b[0;34m\u001b[0m\u001b[0;34m\u001b[0m\u001b[0m\n\u001b[1;32m    902\u001b[0m         \u001b[0mproto_data\u001b[0m \u001b[0;34m=\u001b[0m \u001b[0mtf_session\u001b[0m\u001b[0;34m.\u001b[0m\u001b[0mTF_GetBuffer\u001b[0m\u001b[0;34m(\u001b[0m\u001b[0mrun_metadata_ptr\u001b[0m\u001b[0;34m)\u001b[0m\u001b[0;34m\u001b[0m\u001b[0;34m\u001b[0m\u001b[0m\n",
      "\u001b[0;32m~/anaconda3/lib/python3.6/site-packages/tensorflow/python/client/session.py\u001b[0m in \u001b[0;36m_run\u001b[0;34m(self, handle, fetches, feed_dict, options, run_metadata)\u001b[0m\n\u001b[1;32m   1133\u001b[0m     \u001b[0;32mif\u001b[0m \u001b[0mfinal_fetches\u001b[0m \u001b[0;32mor\u001b[0m \u001b[0mfinal_targets\u001b[0m \u001b[0;32mor\u001b[0m \u001b[0;34m(\u001b[0m\u001b[0mhandle\u001b[0m \u001b[0;32mand\u001b[0m \u001b[0mfeed_dict_tensor\u001b[0m\u001b[0;34m)\u001b[0m\u001b[0;34m:\u001b[0m\u001b[0;34m\u001b[0m\u001b[0;34m\u001b[0m\u001b[0m\n\u001b[1;32m   1134\u001b[0m       results = self._do_run(handle, final_targets, final_fetches,\n\u001b[0;32m-> 1135\u001b[0;31m                              feed_dict_tensor, options, run_metadata)\n\u001b[0m\u001b[1;32m   1136\u001b[0m     \u001b[0;32melse\u001b[0m\u001b[0;34m:\u001b[0m\u001b[0;34m\u001b[0m\u001b[0;34m\u001b[0m\u001b[0m\n\u001b[1;32m   1137\u001b[0m       \u001b[0mresults\u001b[0m \u001b[0;34m=\u001b[0m \u001b[0;34m[\u001b[0m\u001b[0;34m]\u001b[0m\u001b[0;34m\u001b[0m\u001b[0;34m\u001b[0m\u001b[0m\n",
      "\u001b[0;32m~/anaconda3/lib/python3.6/site-packages/tensorflow/python/client/session.py\u001b[0m in \u001b[0;36m_do_run\u001b[0;34m(self, handle, target_list, fetch_list, feed_dict, options, run_metadata)\u001b[0m\n\u001b[1;32m   1314\u001b[0m     \u001b[0;32mif\u001b[0m \u001b[0mhandle\u001b[0m \u001b[0;32mis\u001b[0m \u001b[0;32mNone\u001b[0m\u001b[0;34m:\u001b[0m\u001b[0;34m\u001b[0m\u001b[0;34m\u001b[0m\u001b[0m\n\u001b[1;32m   1315\u001b[0m       return self._do_call(_run_fn, feeds, fetches, targets, options,\n\u001b[0;32m-> 1316\u001b[0;31m                            run_metadata)\n\u001b[0m\u001b[1;32m   1317\u001b[0m     \u001b[0;32melse\u001b[0m\u001b[0;34m:\u001b[0m\u001b[0;34m\u001b[0m\u001b[0;34m\u001b[0m\u001b[0m\n\u001b[1;32m   1318\u001b[0m       \u001b[0;32mreturn\u001b[0m \u001b[0mself\u001b[0m\u001b[0;34m.\u001b[0m\u001b[0m_do_call\u001b[0m\u001b[0;34m(\u001b[0m\u001b[0m_prun_fn\u001b[0m\u001b[0;34m,\u001b[0m \u001b[0mhandle\u001b[0m\u001b[0;34m,\u001b[0m \u001b[0mfeeds\u001b[0m\u001b[0;34m,\u001b[0m \u001b[0mfetches\u001b[0m\u001b[0;34m)\u001b[0m\u001b[0;34m\u001b[0m\u001b[0;34m\u001b[0m\u001b[0m\n",
      "\u001b[0;32m~/anaconda3/lib/python3.6/site-packages/tensorflow/python/client/session.py\u001b[0m in \u001b[0;36m_do_call\u001b[0;34m(self, fn, *args)\u001b[0m\n\u001b[1;32m   1320\u001b[0m   \u001b[0;32mdef\u001b[0m \u001b[0m_do_call\u001b[0m\u001b[0;34m(\u001b[0m\u001b[0mself\u001b[0m\u001b[0;34m,\u001b[0m \u001b[0mfn\u001b[0m\u001b[0;34m,\u001b[0m \u001b[0;34m*\u001b[0m\u001b[0margs\u001b[0m\u001b[0;34m)\u001b[0m\u001b[0;34m:\u001b[0m\u001b[0;34m\u001b[0m\u001b[0;34m\u001b[0m\u001b[0m\n\u001b[1;32m   1321\u001b[0m     \u001b[0;32mtry\u001b[0m\u001b[0;34m:\u001b[0m\u001b[0;34m\u001b[0m\u001b[0;34m\u001b[0m\u001b[0m\n\u001b[0;32m-> 1322\u001b[0;31m       \u001b[0;32mreturn\u001b[0m \u001b[0mfn\u001b[0m\u001b[0;34m(\u001b[0m\u001b[0;34m*\u001b[0m\u001b[0margs\u001b[0m\u001b[0;34m)\u001b[0m\u001b[0;34m\u001b[0m\u001b[0;34m\u001b[0m\u001b[0m\n\u001b[0m\u001b[1;32m   1323\u001b[0m     \u001b[0;32mexcept\u001b[0m \u001b[0merrors\u001b[0m\u001b[0;34m.\u001b[0m\u001b[0mOpError\u001b[0m \u001b[0;32mas\u001b[0m \u001b[0me\u001b[0m\u001b[0;34m:\u001b[0m\u001b[0;34m\u001b[0m\u001b[0;34m\u001b[0m\u001b[0m\n\u001b[1;32m   1324\u001b[0m       \u001b[0mmessage\u001b[0m \u001b[0;34m=\u001b[0m \u001b[0mcompat\u001b[0m\u001b[0;34m.\u001b[0m\u001b[0mas_text\u001b[0m\u001b[0;34m(\u001b[0m\u001b[0me\u001b[0m\u001b[0;34m.\u001b[0m\u001b[0mmessage\u001b[0m\u001b[0;34m)\u001b[0m\u001b[0;34m\u001b[0m\u001b[0;34m\u001b[0m\u001b[0m\n",
      "\u001b[0;32m~/anaconda3/lib/python3.6/site-packages/tensorflow/python/client/session.py\u001b[0m in \u001b[0;36m_run_fn\u001b[0;34m(feed_dict, fetch_list, target_list, options, run_metadata)\u001b[0m\n\u001b[1;32m   1305\u001b[0m       \u001b[0mself\u001b[0m\u001b[0;34m.\u001b[0m\u001b[0m_extend_graph\u001b[0m\u001b[0;34m(\u001b[0m\u001b[0;34m)\u001b[0m\u001b[0;34m\u001b[0m\u001b[0;34m\u001b[0m\u001b[0m\n\u001b[1;32m   1306\u001b[0m       return self._call_tf_sessionrun(\n\u001b[0;32m-> 1307\u001b[0;31m           options, feed_dict, fetch_list, target_list, run_metadata)\n\u001b[0m\u001b[1;32m   1308\u001b[0m \u001b[0;34m\u001b[0m\u001b[0m\n\u001b[1;32m   1309\u001b[0m     \u001b[0;32mdef\u001b[0m \u001b[0m_prun_fn\u001b[0m\u001b[0;34m(\u001b[0m\u001b[0mhandle\u001b[0m\u001b[0;34m,\u001b[0m \u001b[0mfeed_dict\u001b[0m\u001b[0;34m,\u001b[0m \u001b[0mfetch_list\u001b[0m\u001b[0;34m)\u001b[0m\u001b[0;34m:\u001b[0m\u001b[0;34m\u001b[0m\u001b[0;34m\u001b[0m\u001b[0m\n",
      "\u001b[0;32m~/anaconda3/lib/python3.6/site-packages/tensorflow/python/client/session.py\u001b[0m in \u001b[0;36m_call_tf_sessionrun\u001b[0;34m(self, options, feed_dict, fetch_list, target_list, run_metadata)\u001b[0m\n\u001b[1;32m   1407\u001b[0m       return tf_session.TF_SessionRun_wrapper(\n\u001b[1;32m   1408\u001b[0m           \u001b[0mself\u001b[0m\u001b[0;34m.\u001b[0m\u001b[0m_session\u001b[0m\u001b[0;34m,\u001b[0m \u001b[0moptions\u001b[0m\u001b[0;34m,\u001b[0m \u001b[0mfeed_dict\u001b[0m\u001b[0;34m,\u001b[0m \u001b[0mfetch_list\u001b[0m\u001b[0;34m,\u001b[0m \u001b[0mtarget_list\u001b[0m\u001b[0;34m,\u001b[0m\u001b[0;34m\u001b[0m\u001b[0;34m\u001b[0m\u001b[0m\n\u001b[0;32m-> 1409\u001b[0;31m           run_metadata)\n\u001b[0m\u001b[1;32m   1410\u001b[0m     \u001b[0;32melse\u001b[0m\u001b[0;34m:\u001b[0m\u001b[0;34m\u001b[0m\u001b[0;34m\u001b[0m\u001b[0m\n\u001b[1;32m   1411\u001b[0m       \u001b[0;32mwith\u001b[0m \u001b[0merrors\u001b[0m\u001b[0;34m.\u001b[0m\u001b[0mraise_exception_on_not_ok_status\u001b[0m\u001b[0;34m(\u001b[0m\u001b[0;34m)\u001b[0m \u001b[0;32mas\u001b[0m \u001b[0mstatus\u001b[0m\u001b[0;34m:\u001b[0m\u001b[0;34m\u001b[0m\u001b[0;34m\u001b[0m\u001b[0m\n",
      "\u001b[0;31mKeyboardInterrupt\u001b[0m: "
     ]
    }
   ],
   "source": [
    "###################################################################\n",
    "# This is the main function. runs all the functions in notebook   #\n",
    "###################################################################\n",
    "\n",
    "folders = ['samples-1k/Driving_condition/day/','samples-1k/Driving_condition/rainy/','samples-1k/Driving_condition/night/','samples-1k/Driving_condition/snowy/']\n",
    "condition =['day','rainy','night', 'snowy'] \n",
    "imagesizes = [150,300, 400, 600, 900]\n",
    "\n",
    "def main(folder =folders[0]):\n",
    "    for size in imagesizes:\n",
    "        print(size)\n",
    "        Run_inference(size)# Run Inferrence\n",
    "        PredictionsFiles(size)\n",
    "        #image_path = os.path.join(os.getcwd(), folder+'/ground-truth-xml')\n",
    "        #GroundTruth = xml_to_csv(image_path)\n",
    "        ##foldername = str(folder.split('/')[2])\n",
    "        GroundTruth = pd.read_csv(folder+'images/images'+str(size)+'/val_labels.csv')\n",
    "        #GroundTruth.to_csv(folder+'/'+foldername+'_groundTruthlabels.csv', index=None)\n",
    "        #print('Successfully converted groundtruth xml to txt. You are ready to run mAP')\n",
    "        #print(folder+'/'+foldername+'_groundTruthlabels.csv')\n",
    "        GroundTruth2txt(GroundTruth, folder, size) #\n",
    "\n",
    "########################    \n",
    "for i in folders:\n",
    "    main(i)\n",
    "    print('############# Completed Processing   ##############: ' , i)"
   ]
  },
  {
   "cell_type": "markdown",
   "metadata": {},
   "source": [
    "## mAP Summary"
   ]
  },
  {
   "cell_type": "code",
   "execution_count": 30,
   "metadata": {},
   "outputs": [
    {
     "name": "stdout",
     "output_type": "stream",
     "text": [
      "mAP calculations Complete.....\n"
     ]
    }
   ],
   "source": [
    "import os, errno\n",
    "import mAP_02172019\n",
    "from mAP_02172019 import run\n",
    "from mAP_02172019 import tempFiles\n",
    "\n",
    "\n",
    "predictedfolders = ['faster_rcnn_inception_v2_coco','faster_rcnn_resnet50_coco',\n",
    "                    'mask_rcnn_inception_v2_coco', 'rfcn_resnet101_coco', 'ssd_inception_v2_coco']\n",
    "rootwd='/home/kevimwe/tensorflow/models/research/object_detection/CapstoneC'"
   ]
  },
  {
   "cell_type": "code",
   "execution_count": 31,
   "metadata": {},
   "outputs": [
    {
     "name": "stdout",
     "output_type": "stream",
     "text": [
      "Workind Directory:  /home/kevimwe/tensorflow/models/research/object_detection/CapstoneC\n",
      "/home/kevimwe/tensorflow/models/research/object_detection/CapstoneC/samples-1k/Driving_condition/day/images/images300\n",
      "/home/kevimwe/tensorflow/models/research/object_detection/CapstoneC/samples-1k/Driving_condition/day/images/images400\n",
      "/home/kevimwe/tensorflow/models/research/object_detection/CapstoneC/samples-1k/Driving_condition/day/images/images600\n",
      "/home/kevimwe/tensorflow/models/research/object_detection/CapstoneC/samples-1k/Driving_condition/rainy/images/images300\n",
      "Error: No ground-truth files found!\n"
     ]
    },
    {
     "ename": "SystemExit",
     "evalue": "0",
     "output_type": "error",
     "traceback": [
      "An exception has occurred, use %tb to see the full traceback.\n",
      "\u001b[0;31mSystemExit\u001b[0m\u001b[0;31m:\u001b[0m 0\n"
     ]
    },
    {
     "name": "stderr",
     "output_type": "stream",
     "text": [
      "/home/kevimwe/anaconda3/lib/python3.6/site-packages/IPython/core/interactiveshell.py:3275: UserWarning: To exit: use 'exit', 'quit', or Ctrl-D.\n",
      "  warn(\"To exit: use 'exit', 'quit', or Ctrl-D.\", stacklevel=1)\n"
     ]
    }
   ],
   "source": [
    "print('Workind Directory: ',os.getcwd())\n",
    "ALGO =[]\n",
    "mAP_Score =[]\n",
    "Width =[]\n",
    "Condition=[]\n",
    "summary = pd.DataFrame()\n",
    "for i in range(0, len(folders)):#condition\n",
    "    for j in imagesizes: #imageSize\n",
    "        path = rootwd+'/'+folders[i]+'images/images'+str(j)+'/' \n",
    "        os.chdir(path)\n",
    "        print(os.getcwd())\n",
    "        for k in range(0, len(predictedfolders)): #algo\n",
    "            Algo, mAP = run(k, predictedfolders, path)\n",
    "            ALGO = ALGO+[Algo]\n",
    "            mAP_Score =mAP_Score+[mAP]\n",
    "            Width =Width+[j]\n",
    "            Condition =Condition+[condition[i]]\n",
    "            \n",
    "summary['Algorthm'] = ALGO\n",
    "summary['mAP'] = mAP_Score\n",
    "summary['Condition'] = Condition \n",
    "summary['imageWidth'] =Width\n",
    "summary.to_csv(rootwd+'/mAP_summary.csv')      "
   ]
  },
  {
   "cell_type": "code",
   "execution_count": 33,
   "metadata": {},
   "outputs": [],
   "source": [
    "summary['Algorthm'] = ALGO\n",
    "summary['mAP'] = mAP_Score\n",
    "summary['Condition'] = Condition \n",
    "summary['imageWidth'] =Width\n",
    "summary.to_csv(rootwd+'/mAP_summary.csv') "
   ]
  },
  {
   "cell_type": "code",
   "execution_count": 34,
   "metadata": {},
   "outputs": [],
   "source": [
    "mAP_Summary =pd.DataFrame()\n",
    "Temp = pd.read_csv(rootwd+'/mAP_summary.csv')\n",
    "Temp = Temp.drop(['Unnamed: 0'], axis =1)\n",
    "mAP_Summary =mAP_Summary.append(Temp)\n",
    "mAP_Summary=mAP_Summary.sort_values(['mAP'])"
   ]
  },
  {
   "cell_type": "code",
   "execution_count": 35,
   "metadata": {},
   "outputs": [
    {
     "data": {
      "text/plain": [
       "array(['faster_rcnn_inception_v2_coco', 'mask_rcnn_inception_v2_coco',\n",
       "       'ssd_inception_v2_coco', 'faster_rcnn_resnet50_coco',\n",
       "       'rfcn_resnet101_coco'], dtype=object)"
      ]
     },
     "execution_count": 35,
     "metadata": {},
     "output_type": "execute_result"
    }
   ],
   "source": [
    "pd.unique(mAP_Summary.Algorthm)"
   ]
  },
  {
   "cell_type": "code",
   "execution_count": 36,
   "metadata": {},
   "outputs": [],
   "source": [
    "# create new features\n",
    "feature_extractors = {'ssd_inception_v2_coco':'inception_v2', \n",
    "                      'faster_rcnn_inception_v2_coco':'inception_v2',\n",
    "                      'faster_rcnn_inception_v2_coco_custom':'inception_v2',\n",
    "                      'mask_rcnn_inception_v2_coco':'inception_v2',\n",
    "                      'rfcn_resnet101_coco':'resnet101',\n",
    "                      'faster_rcnn_resnet50_coco': 'resnet50'}\n",
    "Algorithms = {'ssd_inception_v2_coco':'ssd', \n",
    "              'faster_rcnn_inception_v2_coco':'rcnn',\n",
    "              'faster_rcnn_inception_v2_coco_custom':'rcnn',\n",
    "              'mask_rcnn_inception_v2_coco':'rcnn',\n",
    "              'rfcn_resnet101_coco':'rfcn',\n",
    "              'faster_rcnn_resnet50_coco': 'rcnn'}\n",
    "\n",
    "temp_fe =[]\n",
    "temp_Al =[]\n",
    "for i in mAP_Summary.Algorthm:\n",
    "    #print(i)\n",
    "    temp_fe = temp_fe + [feature_extractors[i]]\n",
    "    temp_Al = temp_Al +[Algorithms[i]]\n",
    "\n",
    "mAP_Summary['Algorithm'] = temp_Al    \n",
    "mAP_Summary['Feature_Extractor'] = temp_fe"
   ]
  },
  {
   "cell_type": "code",
   "execution_count": 37,
   "metadata": {},
   "outputs": [
    {
     "data": {
      "text/html": [
       "<div>\n",
       "<style scoped>\n",
       "    .dataframe tbody tr th:only-of-type {\n",
       "        vertical-align: middle;\n",
       "    }\n",
       "\n",
       "    .dataframe tbody tr th {\n",
       "        vertical-align: top;\n",
       "    }\n",
       "\n",
       "    .dataframe thead th {\n",
       "        text-align: right;\n",
       "    }\n",
       "</style>\n",
       "<table border=\"1\" class=\"dataframe\">\n",
       "  <thead>\n",
       "    <tr style=\"text-align: right;\">\n",
       "      <th></th>\n",
       "      <th>Algorthm</th>\n",
       "      <th>mAP</th>\n",
       "      <th>Condition</th>\n",
       "      <th>imageWidth</th>\n",
       "      <th>Algorithm</th>\n",
       "      <th>Feature_Extractor</th>\n",
       "    </tr>\n",
       "  </thead>\n",
       "  <tbody>\n",
       "    <tr>\n",
       "      <th>0</th>\n",
       "      <td>faster_rcnn_inception_v2_coco</td>\n",
       "      <td>0.309820</td>\n",
       "      <td>day</td>\n",
       "      <td>300</td>\n",
       "      <td>rcnn</td>\n",
       "      <td>inception_v2</td>\n",
       "    </tr>\n",
       "    <tr>\n",
       "      <th>2</th>\n",
       "      <td>mask_rcnn_inception_v2_coco</td>\n",
       "      <td>0.314541</td>\n",
       "      <td>day</td>\n",
       "      <td>300</td>\n",
       "      <td>rcnn</td>\n",
       "      <td>inception_v2</td>\n",
       "    </tr>\n",
       "    <tr>\n",
       "      <th>4</th>\n",
       "      <td>ssd_inception_v2_coco</td>\n",
       "      <td>0.355382</td>\n",
       "      <td>day</td>\n",
       "      <td>300</td>\n",
       "      <td>ssd</td>\n",
       "      <td>inception_v2</td>\n",
       "    </tr>\n",
       "    <tr>\n",
       "      <th>1</th>\n",
       "      <td>faster_rcnn_resnet50_coco</td>\n",
       "      <td>0.384189</td>\n",
       "      <td>day</td>\n",
       "      <td>300</td>\n",
       "      <td>rcnn</td>\n",
       "      <td>resnet50</td>\n",
       "    </tr>\n",
       "    <tr>\n",
       "      <th>9</th>\n",
       "      <td>ssd_inception_v2_coco</td>\n",
       "      <td>0.401382</td>\n",
       "      <td>day</td>\n",
       "      <td>400</td>\n",
       "      <td>ssd</td>\n",
       "      <td>inception_v2</td>\n",
       "    </tr>\n",
       "    <tr>\n",
       "      <th>6</th>\n",
       "      <td>faster_rcnn_resnet50_coco</td>\n",
       "      <td>0.403906</td>\n",
       "      <td>day</td>\n",
       "      <td>400</td>\n",
       "      <td>rcnn</td>\n",
       "      <td>resnet50</td>\n",
       "    </tr>\n",
       "    <tr>\n",
       "      <th>5</th>\n",
       "      <td>faster_rcnn_inception_v2_coco</td>\n",
       "      <td>0.419329</td>\n",
       "      <td>day</td>\n",
       "      <td>400</td>\n",
       "      <td>rcnn</td>\n",
       "      <td>inception_v2</td>\n",
       "    </tr>\n",
       "    <tr>\n",
       "      <th>3</th>\n",
       "      <td>rfcn_resnet101_coco</td>\n",
       "      <td>0.427110</td>\n",
       "      <td>day</td>\n",
       "      <td>300</td>\n",
       "      <td>rfcn</td>\n",
       "      <td>resnet101</td>\n",
       "    </tr>\n",
       "    <tr>\n",
       "      <th>7</th>\n",
       "      <td>mask_rcnn_inception_v2_coco</td>\n",
       "      <td>0.435112</td>\n",
       "      <td>day</td>\n",
       "      <td>400</td>\n",
       "      <td>rcnn</td>\n",
       "      <td>inception_v2</td>\n",
       "    </tr>\n",
       "    <tr>\n",
       "      <th>10</th>\n",
       "      <td>faster_rcnn_inception_v2_coco</td>\n",
       "      <td>0.451618</td>\n",
       "      <td>day</td>\n",
       "      <td>600</td>\n",
       "      <td>rcnn</td>\n",
       "      <td>inception_v2</td>\n",
       "    </tr>\n",
       "    <tr>\n",
       "      <th>8</th>\n",
       "      <td>rfcn_resnet101_coco</td>\n",
       "      <td>0.451816</td>\n",
       "      <td>day</td>\n",
       "      <td>400</td>\n",
       "      <td>rfcn</td>\n",
       "      <td>resnet101</td>\n",
       "    </tr>\n",
       "    <tr>\n",
       "      <th>11</th>\n",
       "      <td>faster_rcnn_resnet50_coco</td>\n",
       "      <td>0.462566</td>\n",
       "      <td>day</td>\n",
       "      <td>600</td>\n",
       "      <td>rcnn</td>\n",
       "      <td>resnet50</td>\n",
       "    </tr>\n",
       "    <tr>\n",
       "      <th>14</th>\n",
       "      <td>ssd_inception_v2_coco</td>\n",
       "      <td>0.470750</td>\n",
       "      <td>day</td>\n",
       "      <td>600</td>\n",
       "      <td>ssd</td>\n",
       "      <td>inception_v2</td>\n",
       "    </tr>\n",
       "    <tr>\n",
       "      <th>12</th>\n",
       "      <td>mask_rcnn_inception_v2_coco</td>\n",
       "      <td>0.523651</td>\n",
       "      <td>day</td>\n",
       "      <td>600</td>\n",
       "      <td>rcnn</td>\n",
       "      <td>inception_v2</td>\n",
       "    </tr>\n",
       "    <tr>\n",
       "      <th>13</th>\n",
       "      <td>rfcn_resnet101_coco</td>\n",
       "      <td>0.539665</td>\n",
       "      <td>day</td>\n",
       "      <td>600</td>\n",
       "      <td>rfcn</td>\n",
       "      <td>resnet101</td>\n",
       "    </tr>\n",
       "  </tbody>\n",
       "</table>\n",
       "</div>"
      ],
      "text/plain": [
       "                         Algorthm       mAP Condition  imageWidth Algorithm  \\\n",
       "0   faster_rcnn_inception_v2_coco  0.309820       day         300      rcnn   \n",
       "2     mask_rcnn_inception_v2_coco  0.314541       day         300      rcnn   \n",
       "4           ssd_inception_v2_coco  0.355382       day         300       ssd   \n",
       "1       faster_rcnn_resnet50_coco  0.384189       day         300      rcnn   \n",
       "9           ssd_inception_v2_coco  0.401382       day         400       ssd   \n",
       "6       faster_rcnn_resnet50_coco  0.403906       day         400      rcnn   \n",
       "5   faster_rcnn_inception_v2_coco  0.419329       day         400      rcnn   \n",
       "3             rfcn_resnet101_coco  0.427110       day         300      rfcn   \n",
       "7     mask_rcnn_inception_v2_coco  0.435112       day         400      rcnn   \n",
       "10  faster_rcnn_inception_v2_coco  0.451618       day         600      rcnn   \n",
       "8             rfcn_resnet101_coco  0.451816       day         400      rfcn   \n",
       "11      faster_rcnn_resnet50_coco  0.462566       day         600      rcnn   \n",
       "14          ssd_inception_v2_coco  0.470750       day         600       ssd   \n",
       "12    mask_rcnn_inception_v2_coco  0.523651       day         600      rcnn   \n",
       "13            rfcn_resnet101_coco  0.539665       day         600      rfcn   \n",
       "\n",
       "   Feature_Extractor  \n",
       "0       inception_v2  \n",
       "2       inception_v2  \n",
       "4       inception_v2  \n",
       "1           resnet50  \n",
       "9       inception_v2  \n",
       "6           resnet50  \n",
       "5       inception_v2  \n",
       "3          resnet101  \n",
       "7       inception_v2  \n",
       "10      inception_v2  \n",
       "8          resnet101  \n",
       "11          resnet50  \n",
       "14      inception_v2  \n",
       "12      inception_v2  \n",
       "13         resnet101  "
      ]
     },
     "execution_count": 37,
     "metadata": {},
     "output_type": "execute_result"
    }
   ],
   "source": [
    "mAP_Summary"
   ]
  },
  {
   "cell_type": "code",
   "execution_count": 38,
   "metadata": {},
   "outputs": [],
   "source": [
    "plt.style.use(\"classic\")\n",
    "import seaborn as sns\n",
    "%matplotlib inline\n",
    "sns.set(font_scale=1.5)"
   ]
  },
  {
   "cell_type": "code",
   "execution_count": 41,
   "metadata": {},
   "outputs": [
    {
     "name": "stderr",
     "output_type": "stream",
     "text": [
      "/home/kevimwe/anaconda3/lib/python3.6/site-packages/seaborn/categorical.py:3666: UserWarning: The `factorplot` function has been renamed to `catplot`. The original name will be removed in a future release. Please update your code. Note that the default `kind` in `factorplot` (`'point'`) has changed `'strip'` in `catplot`.\n",
      "  warnings.warn(msg)\n"
     ]
    },
    {
     "data": {
      "text/plain": [
       "Text(0.5, 1.0, 'mAP Summary by Algorithm  across different driving Conditon')"
      ]
     },
     "execution_count": 41,
     "metadata": {},
     "output_type": "execute_result"
    },
    {
     "data": {
      "image/png": "[encoded data removed]",
      "text/plain": [
       "<Figure size 2265.7x720 with 1 Axes>"
      ]
     },
     "metadata": {},
     "output_type": "display_data"
    }
   ],
   "source": [
    "#exercise = sns.load_dataset(\"exercise\")\n",
    "g = sns.factorplot(x=\"Algorthm\", y=\"mAP\", hue=\"imageWidth\", data=mAP_Summary, ci=95, \n",
    "               markers=['o', 'v', 's', 'o', 'v'], scale = 1.5, height=10, aspect=3, palette=\"Set2\")\n",
    "plt.title('mAP Summary by Algorithm  across different driving Conditon')"
   ]
  },
  {
   "cell_type": "code",
   "execution_count": 40,
   "metadata": {},
   "outputs": [
    {
     "name": "stderr",
     "output_type": "stream",
     "text": [
      "/home/kevimwe/anaconda3/lib/python3.6/site-packages/seaborn/categorical.py:3666: UserWarning: The `factorplot` function has been renamed to `catplot`. The original name will be removed in a future release. Please update your code. Note that the default `kind` in `factorplot` (`'point'`) has changed `'strip'` in `catplot`.\n",
      "  warnings.warn(msg)\n"
     ]
    },
    {
     "data": {
      "text/plain": [
       "Text(0.5, 1.0, 'mAP Summary by Algorithm  across different driving Conditon')"
      ]
     },
     "execution_count": 40,
     "metadata": {},
     "output_type": "execute_result"
    },
    {
     "data": {
      "image/png": "[encoded data removed]",
      "text/plain": [
       "<Figure size 1529.78x720 with 1 Axes>"
      ]
     },
     "metadata": {},
     "output_type": "display_data"
    }
   ],
   "source": [
    "#exercise = sns.load_dataset(\"exercise\")\n",
    "g = sns.factorplot(x=\"Algorithm\", y=\"mAP\", hue=\"Condition\", data=mAP_Summary, ci=95, \n",
    "               markers=['o', 'v', 's', 'o', 'v'], scale = 1.5, height=10, aspect=2, palette=\"Set2\")\n",
    "plt.title('mAP Summary by Algorithm  across different driving Conditon')"
   ]
  },
  {
   "cell_type": "code",
   "execution_count": null,
   "metadata": {},
   "outputs": [],
   "source": [
    "with sns.axes_style(\"darkgrid\"):\n",
    "    sns.catplot('Algorthm','mAP',data=mAP_Summary, kind=\"point\", height=10, \n",
    "                aspect=3, palette=\"Set2\", markers=['o', 'v', 's', 'o', 'v'], scale = 1.5)\n",
    "    plt.title('mAP distribution  per Algorithm +feature Extractor')"
   ]
  },
  {
   "cell_type": "code",
   "execution_count": null,
   "metadata": {},
   "outputs": [],
   "source": [
    "with sns.axes_style(\"darkgrid\"):\n",
    "    sns.catplot('Algorithm','mAP',data=mAP_Summary, kind=\"point\", height=10, \n",
    "                aspect=2, palette=\"Set2\", markers=['o', 'v', 's', 'o', 'v'], scale = 1.5)\n",
    "    plt.title('mAP distribution by Algorithm')"
   ]
  },
  {
   "cell_type": "code",
   "execution_count": null,
   "metadata": {},
   "outputs": [],
   "source": [
    "with sns.axes_style(\"darkgrid\"):\n",
    "    sns.catplot('Feature_Extractor','mAP',data=mAP_Summary, kind=\"point\", height=10, \n",
    "                aspect=2, palette=\"Set2\", markers=['o', 'v', 's', 'o', 'v'], scale = 1.5)\n",
    "    plt.title('mAP distribution by feature extractors')"
   ]
  },
  {
   "cell_type": "code",
   "execution_count": null,
   "metadata": {},
   "outputs": [],
   "source": [
    "g = sns.FacetGrid(mAP_Summary, col=\"Condition\", col_wrap=4,hue='Algorthm', height=8, aspect=0.5)\n",
    "g = g.map(plt.plot, 'Condition','mAP', marker=\"s\").add_legend()\n"
   ]
  },
  {
   "cell_type": "markdown",
   "metadata": {},
   "source": [
    "### AP for individual classes"
   ]
  },
  {
   "cell_type": "code",
   "execution_count": null,
   "metadata": {},
   "outputs": [],
   "source": []
  },
  {
   "cell_type": "code",
   "execution_count": null,
   "metadata": {},
   "outputs": [],
   "source": []
  },
  {
   "cell_type": "markdown",
   "metadata": {},
   "source": [
    "## Visualize Inference Time Data"
   ]
  },
  {
   "cell_type": "code",
   "execution_count": null,
   "metadata": {},
   "outputs": [],
   "source": [
    "temp = pd.read_csv('InferenceData_scaled.csv')"
   ]
  },
  {
   "cell_type": "code",
   "execution_count": null,
   "metadata": {},
   "outputs": [],
   "source": [
    "temp"
   ]
  },
  {
   "cell_type": "code",
   "execution_count": null,
   "metadata": {},
   "outputs": [],
   "source": [
    "## Summary Statistics\n",
    "grouped =temp.groupby(['Model', 'Driving Condition'], as_index=False).agg({\"Inference Time (Sec)\": [min,max,'mean']})\n",
    "grouped.columns = [\"_\".join(x) for x in grouped.columns.ravel()]\n",
    "grouped"
   ]
  },
  {
   "cell_type": "code",
   "execution_count": null,
   "metadata": {},
   "outputs": [],
   "source": [
    "import seaborn as sns\n",
    "import matplotlib.pyplot as plt\n",
    "%matplotlib inline  \n",
    "\n",
    "sns.set_style(\"darkgrid\", {\"axes.facecolor\": \".9\"})\n",
    "df = temp.copy()\n",
    "g = sns.catplot(x=\"Model\", y=\"Inference Time (Sec)\",\n",
    "               hue=\"Driving Condition\",# row=\"Driving Condition\",\n",
    "               data=df, kind=\"violin\",\n",
    "               height=10, aspect=3)\n",
    "plt.title(\"Model Inference Time Comparison\")"
   ]
  },
  {
   "cell_type": "markdown",
   "metadata": {},
   "source": [
    "### Joint Visualizations"
   ]
  },
  {
   "cell_type": "code",
   "execution_count": null,
   "metadata": {},
   "outputs": [],
   "source": [
    "grouped.columns = ['Algorthm', 'Condition', 'Inference Time (Sec)_min','Inference Time (Sec)_max','Inference Time (Sec)_mean']"
   ]
  },
  {
   "cell_type": "code",
   "execution_count": null,
   "metadata": {},
   "outputs": [],
   "source": [
    "mAP_Summary=mAP_Summary.reset_index()"
   ]
  },
  {
   "cell_type": "code",
   "execution_count": null,
   "metadata": {},
   "outputs": [],
   "source": [
    "mAP_Summary"
   ]
  },
  {
   "cell_type": "code",
   "execution_count": null,
   "metadata": {},
   "outputs": [],
   "source": [
    "result = pd.merge(mAP_Summary, grouped, on=['Algorthm','Condition'])"
   ]
  },
  {
   "cell_type": "code",
   "execution_count": null,
   "metadata": {},
   "outputs": [],
   "source": [
    "result"
   ]
  },
  {
   "cell_type": "code",
   "execution_count": null,
   "metadata": {},
   "outputs": [],
   "source": [
    "g = sns.relplot(x=\"Inference Time (Sec)_mean\", y=\"mAP\", data=result,height=5, aspect=1,\n",
    "                hue=\"Algorthm\", size=\"mAP\",sizes=(100, 700), col=\"Condition\",marker=\"s\")"
   ]
  },
  {
   "cell_type": "markdown",
   "metadata": {},
   "source": [
    "###   Berkeley Dataset download\n",
    "\n",
    "http://dl.yf.io/bdd-data/v1/videos/"
   ]
  },
  {
   "cell_type": "markdown",
   "metadata": {},
   "source": [
    "import zipfile, urllib.request, shutil\n",
    "\n",
    "url = 'http://dl.yf.io/bdd-data/v1/videos/val.zip'\n",
    "file_name = 'val.zip'\n",
    "\n",
    "with urllib.request.urlopen(url) as response, open(file_name, 'wb') as out_file:\n",
    "    shutil.copyfileobj(response, out_file)\n"
   ]
  },
  {
   "cell_type": "code",
   "execution_count": null,
   "metadata": {},
   "outputs": [],
   "source": [
    "with zipfile.ZipFile(file_name) as zf:\n",
    "    zf.extractall()"
   ]
  },
  {
   "cell_type": "code",
   "execution_count": null,
   "metadata": {},
   "outputs": [],
   "source": []
  }
 ],
 "metadata": {
  "kernelspec": {
   "display_name": "Python 3",
   "language": "python",
   "name": "python3"
  },
  "language_info": {
   "codemirror_mode": {
    "name": "ipython",
    "version": 3
   },
   "file_extension": ".py",
   "mimetype": "text/x-python",
   "name": "python",
   "nbconvert_exporter": "python",
   "pygments_lexer": "ipython3",
   "version": "3.6.7"
  }
 },
 "nbformat": 4,
 "nbformat_minor": 2
}
