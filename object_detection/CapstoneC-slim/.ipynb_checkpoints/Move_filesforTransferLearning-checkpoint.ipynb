{
 "cells": [
  {
   "cell_type": "code",
   "execution_count": 1,
   "metadata": {},
   "outputs": [],
   "source": [
    "from resizeimage import resizeimage\n",
    "#!pip install python-resize-image\n",
    "import pandas as pd\n",
    "import os, sys, glob\n",
    "import math\n",
    "import warnings\n",
    "import PIL\n",
    "import numpy as np\n",
    "from PIL import Image\n",
    "import cv2\n",
    "import random\n",
    "import os \n",
    "warnings.filterwarnings(\"ignore\")"
   ]
  },
  {
   "cell_type": "code",
   "execution_count": 2,
   "metadata": {},
   "outputs": [],
   "source": [
    "######### Read data ######"
   ]
  },
  {
   "cell_type": "code",
   "execution_count": 4,
   "metadata": {},
   "outputs": [],
   "source": [
    "imagesizes = [300, 400, 600]\n",
    "Rootpath ='/home/kevimwe/tensorflow/models/research/object_detection/CapstoneB/samples-1k/Driving_condition/' #update to your desire path\n",
    "folders = ['day', 'night', 'snowy', 'rainy']\n",
    "test = '/images/images'+str(imagesizes[0])+'/test_labels.csv'\n",
    "train = '/images/images'+str(imagesizes[0])+'/train_labels.csv'"
   ]
  },
  {
   "cell_type": "code",
   "execution_count": 6,
   "metadata": {},
   "outputs": [
    {
     "name": "stdout",
     "output_type": "stream",
     "text": [
      "['Dayvideo1_carrolton8_reSized.jpg', 'Dayvideo4_carrolton2_reSized.jpg', 'Dayvideo6_carrolton2_reSized.jpg', 'Dayvideo4_carrolton12_reSized.jpg', 'Dayvideo7_carrolton13_reSized.jpg', 'Dayvideo3_carrolton1_reSized.jpg', 'Dayvideo4_carrolton15_reSized.jpg', 'Dayvideo3_carrolton13_reSized.jpg', 'Dayvideo7_carrolton2_reSized.jpg', 'Dayvideo4_carrolton8_reSized.jpg', 'Dayvideo6_carrolton9_reSized.jpg', '000000147223_reSized.jpg', 'Dayvideo1_carrolton11_reSized.jpg', 'Dayvideo5_carrolton12_reSized.jpg', 'Dayvideo8_carrolton0_reSized.jpg', 'Dayvideo1_carrolton10_reSized.jpg', 'Dayvideo1_carrolton2_reSized.jpg', 'Dayvideo2_carrolton2_reSized.jpg', 'Dayvideo5_carrolton5_reSized.jpg', 'Dayvideo5_carrolton0_reSized.jpg', 'Dayvideo6_carrolton4_reSized.jpg', 'Dayvideo3_carrolton6_reSized.jpg', 'Dayvideo5_carrolton9_reSized.jpg', 'Dayvideo7_carrolton8_reSized.jpg', 'Dayvideo4_carrolton6_reSized.jpg', 'Dayvideo1_carrolton15_reSized.jpg']\n",
      "['IMG_5971_reSized.jpg', 'IMG_6155_247_reSized.jpg', 'IMG_6084_27_reSized.jpg', 'IMG_6153_76_reSized.jpg', 'IMG_6154_608_reSized.jpg', 'IMG_6071_135_reSized.jpg', 'IMG_6149_0_reSized.jpg', 'IMG_5950_reSized.jpg', 'IMG_6084_108_reSized.jpg', 'IMG_6153_209_reSized.jpg', 'IMG_6084_90_reSized.jpg', 'IMG_6155_456_reSized.jpg', 'IMG_6084_216_reSized.jpg', 'IMG_5960_reSized.jpg', 'IMG_5963_reSized.jpg', 'IMG_5979_reSized.jpg', 'IMG_6155_133_reSized.jpg', 'IMG_5953_reSized.jpg', 'IMG_6082_54_reSized.jpg', 'IMG_5941_reSized.jpg', 'IMG_6082_198_reSized.jpg', 'IMG_6084_279_reSized.jpg', 'IMG_6155_266_reSized.jpg', 'IMG_5940_reSized.jpg']\n",
      "['00fbb190-8834f55b_reSized.jpg', '05640976-d1ce1090297_reSized.jpg', 's51_reSized.jpg', '03af3912-36636dd50_reSized.jpg', 's41_reSized.jpg', 'snowy-norway2_reSized.jpg', 's29_reSized.jpg', 's12_reSized.jpg', 'snowy-norway1_reSized.jpg', 's20_reSized.jpg', 's56_reSized.jpg', 's6_reSized.jpg', '05640976-d1ce1090495_reSized.jpg', '067ebca1-36bf70d8_reSized.jpg', 's3_reSized.jpg', '059286c1-7419d52e_reSized.jpg', '01eaedc9-a79a93e099_reSized.jpg', '0718ab33-bbd7e0ae_reSized.jpg', 's33_reSized.jpg', 's52_reSized.jpg', '05640976-d1ce10900_reSized.jpg', 's48_reSized.jpg', 's9_reSized.jpg', '01eaedc9-a79a93e0495_reSized.jpg', 's5_reSized.jpg', 's16_reSized.jpg']\n",
      "['IMG_5889_38_reSized.jpg', 'IMG_5892_0_reSized.jpg', 'IMG_5888_38_reSized.jpg', 'IMG_6032_494_reSized.jpg', 'IMG_5888_0_reSized.jpg', 'IMG_5879_76_reSized.jpg', 'IMG_5889_57_reSized.jpg', 'IMG_6032_57_reSized.jpg', 'IMG_5894_0_reSized.jpg', 'IMG_5890_19_reSized.jpg', 'IMG_6032_551_reSized.jpg', 'IMG_5887_0_reSized.jpg', 'IMG_5894_19_reSized.jpg', 'IMG_5896_0_reSized.jpg', 'IMG_5873_0_reSized.jpg']\n",
      "['Dayvideo1_carrolton12_reSized.jpg', 'Dayvideo5_carrolton14_reSized.jpg', 'Dayvideo3_carrolton4_reSized.jpg', 'Dayvideo2_carrolton14_reSized.jpg', 'Dayvideo7_carrolton0_reSized.jpg', 'Dayvideo1_carrolton7_reSized.jpg', 'Dayvideo3_carrolton0_reSized.jpg', 'Dayvideo7_carrolton9_reSized.jpg', 'Dayvideo4_carrolton0_reSized.jpg', 'Dayvideo6_carrolton1_reSized.jpg', 'Dayvideo7_carrolton15_reSized.jpg', 'Dayvideo7_carrolton12_reSized.jpg', 'Dayvideo3_carrolton11_reSized.jpg', 'Dayvideo2_carrolton5_reSized.jpg', 'Dayvideo3_carrolton5_reSized.jpg', 'Dayvideo7_carrolton4_reSized.jpg', 'Dayvideo7_carrolton5_reSized.jpg', 'Dayvideo6_carrolton6_reSized.jpg', 'Dayvideo5_carrolton2_reSized.jpg', 'Dayvideo4_carrolton1_reSized.jpg', 'Dayvideo9_carrolton0_reSized.jpg', 'Dayvideo5_carrolton6_reSized.jpg', 'Dayvideo5_carrolton13_reSized.jpg', 'Dayvideo5_carrolton3_reSized.jpg', 'Dayvideo3_carrolton7_reSized.jpg', '000000311909_reSized.jpg', 'Dayvideo2_carrolton3_reSized.jpg', 'Dayvideo5_carrolton15_reSized.jpg', 'Dayvideo1_carrolton0_reSized.jpg', 'Dayvideo7_carrolton1_reSized.jpg', 'Dayvideo4_carrolton9_reSized.jpg', 'Dayvideo4_carrolton5_reSized.jpg', 'Dayvideo3_carrolton12_reSized.jpg', 'Dayvideo1_carrolton6_reSized.jpg', '000000243867_reSized.jpg', 'Dayvideo6_carrolton0_reSized.jpg', 'Dayvideo6_carrolton7_reSized.jpg', '000000192716_reSized.jpg', 'Dayvideo6_carrolton8_reSized.jpg', 'Dayvideo1_carrolton9_reSized.jpg', '000000005037_reSized.jpg', 'Dayvideo7_carrolton14_reSized.jpg', 'Dayvideo5_carrolton10_reSized.jpg', 'Dayvideo2_carrolton4_reSized.jpg', '000000147725_reSized.jpg', 'Dayvideo7_carrolton6_reSized.jpg', 'Dayvideo4_carrolton10_reSized.jpg', 'Dayvideo7_carrolton7_reSized.jpg', 'Dayvideo1_carrolton4_reSized.jpg', 'Dayvideo5_carrolton11_reSized.jpg', 'Dayvideo6_carrolton3_reSized.jpg']\n",
      "['IMG_6062_297_reSized.jpg', 'IMG_6084_0_reSized.jpg', 'IMG_5945_reSized.jpg', 'IMG_6062_342_reSized.jpg', 'IMG_5976_reSized.jpg', 'IMG_5973_reSized.jpg', 'IMG_6154_57_reSized.jpg', 'IMG_5955_reSized.jpg', 'IMG_6071_180_reSized.jpg', 'IMG_6084_243_reSized.jpg', 'IMG_5978_reSized.jpg', 'IMG_6062_441_reSized.jpg', 'IMG_5949_reSized.jpg', 'IMG_5951_reSized.jpg', 'IMG_6062_450_reSized.jpg', 'IMG_6149_494_reSized.jpg', 'IMG_6062_9_reSized.jpg', 'IMG_6082_144_reSized.jpg', 'IMG_6082_441_reSized.jpg', 'IMG_6084_171_reSized.jpg', 'IMG_6150_38_reSized.jpg', 'IMG_6062_351_reSized.jpg', 'IMG_6154_456_reSized.jpg', 'IMG_5944_reSized.jpg', 'IMG_5958_reSized.jpg', 'IMG_5946_reSized.jpg', 'IMG_6062_99_reSized.jpg', 'IMG_5943_reSized.jpg', 'IMG_5942_reSized.jpg', 'IMG_6084_198_reSized.jpg', 'IMG_6154_323_reSized.jpg', 'IMG_6155_627_reSized.jpg', 'IMG_5964_reSized.jpg', 'IMG_5947_reSized.jpg', 'IMG_6082_477_reSized.jpg', 'IMG_5952_reSized.jpg', 'IMG_5970_reSized.jpg', 'IMG_6071_63_reSized.jpg', 'IMG_6150_57_reSized.jpg', 'IMG_6062_153_reSized.jpg', 'IMG_6153_323_reSized.jpg', 'IMG_5959_reSized.jpg', 'IMG_5954_reSized.jpg', 'IMG_6084_189_reSized.jpg', 'IMG_6062_189_reSized.jpg', 'IMG_6154_342_reSized.jpg', 'IMG_6153_475_reSized.jpg', 'IMG_5977_reSized.jpg', 'IMG_6149_570_reSized.jpg']\n",
      "['s10_reSized.jpg', 's7_reSized.jpg', 's46_reSized.jpg', 's28_reSized.jpg', 's19_reSized.jpg', 's2_reSized.jpg', '01eaedc9-a79a93e0396_reSized.jpg', '076399f2-4c68835b_reSized.jpg', '05640976-d1ce1090396_reSized.jpg', '03d17a3b-11512102_reSized.jpg', 's17_reSized.jpg', '037795d6-d456ac0c_reSized.jpg', 's1_reSized.jpg', '05640976-d1ce10901188_reSized.jpg', 's45_reSized.jpg', '03a5976c-6d4c623999_reSized.jpg', 's15_reSized.jpg', 's24_reSized.jpg', 's50_reSized.jpg', '05476b39-9d783f66_reSized.jpg', 's22_reSized.jpg', '05640976-d1ce10901089_reSized.jpg', '077d7bbc-2dc66d22_reSized.jpg', '02346f91-87969c22_reSized.jpg', '03fd9aa1-78e4c146_reSized.jpg', 's38_reSized.jpg', '01eaedc9-a79a93e0594_reSized.jpg', '01ec6367-7092c37b_reSized.jpg', 's32_reSized.jpg', '059ec458-3b7e13f2_reSized.jpg', 's14_reSized.jpg', 's37_reSized.jpg', '0672c229-561d73fa_reSized.jpg', 's31_reSized.jpg', '01eaedc9-a79a93e00_reSized.jpg', 's13_reSized.jpg', '02346f91-27a6b98b_reSized.jpg', 's30_reSized.jpg', 'snowy_norway2_reSized.jpg', '03af3912-36636dd5_reSized.jpg', '01eaedc9-a79a93e0297_reSized.jpg', '05640976-d1ce109099_reSized.jpg', 's44_reSized.jpg', 's55_reSized.jpg', 'snowy_norway3_reSized.jpg', 's4_reSized.jpg', 's25_reSized.jpg', 's40_reSized.jpg', 's54_reSized.jpg', '067ebca1-8a3387bf_reSized.jpg', 's34_reSized.jpg']\n",
      "['IMG_6032_456_reSized.jpg', 'IMG_5879_57_reSized.jpg', 'IMG_6032_513_reSized.jpg', 'IMG_5880_0_reSized.jpg', 'IMG_6032_532_reSized.jpg', 'IMG_5895_38_reSized.jpg', 'IMG_6032_399_reSized.jpg', 'IMG_6032_437_reSized.jpg', 'IMG_5882_0_reSized.jpg', 'IMG_5888_76_reSized.jpg', 'IMG_6032_570_reSized.jpg', 'IMG_5895_19_reSized.jpg', 'IMG_6032_361_reSized.jpg', 'IMG_5882_76_reSized.jpg', 'IMG_5891_19_reSized.jpg', 'IMG_6032_152_reSized.jpg', 'IMG_6032_228_reSized.jpg', 'IMG_6032_209_reSized.jpg', 'IMG_5888_57_reSized.jpg', 'IMG_6032_76_reSized.jpg', 'IMG_5890_76_reSized.jpg', 'IMG_5895_76_reSized.jpg', 'IMG_6032_285_reSized.jpg', 'IMG_5884_76_reSized.jpg', 'IMG_5883_0_reSized.jpg', 'IMG_5884_57_reSized.jpg', 'IMG_5873_38_reSized.jpg', 'IMG_6032_380_reSized.jpg', 'IMG_6032_38_reSized.jpg', 'IMG_5880_76_reSized.jpg']\n"
     ]
    }
   ],
   "source": [
    "\n",
    "\n",
    "temp_train = pd.DataFrame()\n",
    "temp_test = pd.DataFrame()\n",
    "\n",
    "for i in folders:\n",
    "    temp= pd.read_csv(Rootpath+i+test)\n",
    "    temp_test = temp_test.append(temp)\n",
    "    \n",
    "for i in folders:    \n",
    "    temp2= pd.read_csv(Rootpath+i+train)\n",
    "    temp_train = temp_train.append(temp2)\n",
    "    \n",
    "filter_column =['filename', 'width', 'height', 'class', 'xmin', 'ymin', 'xmax', 'ymax']\n",
    "\n",
    "test_labels = temp_test[filter_column] #filter columns\n",
    "train_labels = temp_train[filter_column] #filter columns\n",
    "\n",
    "\n",
    "test_labels.to_csv('/home/kevimwe/tensorflow/models/research/object_detection/images/test_labels.csv', index=False)#update to your desire path\n",
    "train_labels.to_csv('/home/kevimwe/tensorflow/models/research/object_detection/images/train_labels.csv', index=False)#update to your desire path\n",
    "\n",
    "\n",
    "#move Images\n",
    "import os, errno, shutil\n",
    "\n",
    "try:\n",
    "    os.makedirs('/home/kevimwe/tensorflow/models/research/object_detection/images/test/')#update to your desire path\n",
    "    os.makedirs('/home/kevimwe/tensorflow/models/research/object_detection/images/train/')#update to your desire path\n",
    "except OSError as e:\n",
    "    if e.errno != errno.EEXIST:\n",
    "        raise\n",
    "        \n",
    "for i in folders:\n",
    "    os.chdir(Rootpath+i+'/images/images/Test/') #Change working directory\n",
    "    #print(os.getcwd())\n",
    "    images = glob.glob(\"*.jpg\")\n",
    "    print(images)\n",
    "    for f in images:\n",
    "        shutil.copy(f, '/home/kevimwe/tensorflow/models/research/object_detection/images/test/')\n",
    "\n",
    "for j in folders:\n",
    "    os.chdir(Rootpath+j+'/images/images/Train/') #Change working directory\n",
    "    images2 = glob.glob(\"*.jpg\")\n",
    "    print(images2)\n",
    "    for f in images2:\n",
    "        shutil.copy(f, '/home/kevimwe/tensorflow/models/research/object_detection/images/train/')\n",
    "    \n",
    "\n",
    "\n",
    "    "
   ]
  },
  {
   "cell_type": "code",
   "execution_count": 7,
   "metadata": {},
   "outputs": [
    {
     "data": {
      "text/plain": [
       "91"
      ]
     },
     "execution_count": 7,
     "metadata": {},
     "output_type": "execute_result"
    }
   ],
   "source": [
    "len(np.unique(test_labels.filename))"
   ]
  },
  {
   "cell_type": "code",
   "execution_count": 8,
   "metadata": {},
   "outputs": [
    {
     "data": {
      "text/plain": [
       "181"
      ]
     },
     "execution_count": 8,
     "metadata": {},
     "output_type": "execute_result"
    }
   ],
   "source": [
    "len(np.unique(train_labels.filename))\n"
   ]
  },
  {
   "cell_type": "code",
   "execution_count": null,
   "metadata": {},
   "outputs": [],
   "source": []
  }
 ],
 "metadata": {
  "kernelspec": {
   "display_name": "Python 3",
   "language": "python",
   "name": "python3"
  },
  "language_info": {
   "codemirror_mode": {
    "name": "ipython",
    "version": 3
   },
   "file_extension": ".py",
   "mimetype": "text/x-python",
   "name": "python",
   "nbconvert_exporter": "python",
   "pygments_lexer": "ipython3",
   "version": "3.6.7"
  }
 },
 "nbformat": 4,
 "nbformat_minor": 2
}
